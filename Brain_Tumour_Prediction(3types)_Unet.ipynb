{
  "cells": [
    {
      "cell_type": "markdown",
      "metadata": {
        "id": "view-in-github",
        "colab_type": "text"
      },
      "source": [
        "<a href=\"https://colab.research.google.com/github/OjochenemiB/Supervised_Learning/blob/main/Brain_Tumour_Prediction(3types)_Unet.ipynb\" target=\"_parent\"><img src=\"https://colab.research.google.com/assets/colab-badge.svg\" alt=\"Open In Colab\"/></a>"
      ]
    },
    {
      "cell_type": "code",
      "execution_count": 1,
      "id": "f0e9520e",
      "metadata": {
        "id": "f0e9520e"
      },
      "outputs": [],
      "source": [
        "import tensorflow as tf\n",
        "import warnings\n",
        "import matplotlib.pyplot as plt\n",
        "import seaborn as sns\n",
        "from tensorflow.keras import layers,Input,Model\n",
        "from tensorflow.keras.utils import to_categorical\n",
        "import numpy as np\n",
        "import pandas as pd\n",
        "import os\n",
        "from pathlib import Path\n",
        "import cv2\n",
        "from PIL import Image # pillow library\n",
        "from sklearn.model_selection import train_test_split\n",
        "from sklearn.metrics import classification_report, confusion_matrix\n",
        "from imblearn.over_sampling import RandomOverSampler, SMOTE, SVMSMOTE\n",
        "from sklearn.utils import resample\n",
        "from tensorflow.keras.preprocessing.image import ImageDataGenerator"
      ]
    },
    {
      "cell_type": "markdown",
      "id": "d777d39e-7b5b-451e-8db0-663775af5fa2",
      "metadata": {
        "id": "d777d39e-7b5b-451e-8db0-663775af5fa2"
      },
      "source": [
        "### Import Image_dataset"
      ]
    },
    {
      "cell_type": "code",
      "execution_count": 2,
      "id": "c3905ea6-753d-461e-9cad-11ed160c2b1c",
      "metadata": {
        "colab": {
          "base_uri": "https://localhost:8080/",
          "height": 211
        },
        "id": "c3905ea6-753d-461e-9cad-11ed160c2b1c",
        "outputId": "d04e9dd5-aeb4-422b-fba6-5992c22e204e"
      },
      "outputs": [
        {
          "output_type": "error",
          "ename": "FileNotFoundError",
          "evalue": "The folder /content/brain_tumor_dataset_3 does not exist.",
          "traceback": [
            "\u001b[0;31m---------------------------------------------------------------------------\u001b[0m",
            "\u001b[0;31mFileNotFoundError\u001b[0m                         Traceback (most recent call last)",
            "\u001b[0;32m<ipython-input-2-1b7dba7bbc59>\u001b[0m in \u001b[0;36m<cell line: 6>\u001b[0;34m()\u001b[0m\n\u001b[1;32m      5\u001b[0m \u001b[0;31m# Ensure the folder exists\u001b[0m\u001b[0;34m\u001b[0m\u001b[0;34m\u001b[0m\u001b[0m\n\u001b[1;32m      6\u001b[0m \u001b[0;32mif\u001b[0m \u001b[0;32mnot\u001b[0m \u001b[0mdataset_directory\u001b[0m\u001b[0;34m.\u001b[0m\u001b[0mexists\u001b[0m\u001b[0;34m(\u001b[0m\u001b[0;34m)\u001b[0m\u001b[0;34m:\u001b[0m\u001b[0;34m\u001b[0m\u001b[0;34m\u001b[0m\u001b[0m\n\u001b[0;32m----> 7\u001b[0;31m     \u001b[0;32mraise\u001b[0m \u001b[0mFileNotFoundError\u001b[0m\u001b[0;34m(\u001b[0m\u001b[0;34mf\"The folder {dataset_directory} does not exist.\"\u001b[0m\u001b[0;34m)\u001b[0m\u001b[0;34m\u001b[0m\u001b[0;34m\u001b[0m\u001b[0m\n\u001b[0m\u001b[1;32m      8\u001b[0m \u001b[0;34m\u001b[0m\u001b[0m\n\u001b[1;32m      9\u001b[0m \u001b[0;31m#CREATE A DICTIONARY TO STORE ALL THE CLASSES OF BRAIN TUMOUR\u001b[0m\u001b[0;34m\u001b[0m\u001b[0;34m\u001b[0m\u001b[0m\n",
            "\u001b[0;31mFileNotFoundError\u001b[0m: The folder /content/brain_tumor_dataset_3 does not exist."
          ]
        }
      ],
      "source": [
        "\n",
        "# Get the current working directory of the script\n",
        "current_directory = Path.cwd()\n",
        "dataset_directory = current_directory / \"brain_tumor_dataset_3\"\n",
        "\n",
        "# Ensure the folder exists\n",
        "if not dataset_directory.exists():\n",
        "    raise FileNotFoundError(f\"The folder {dataset_directory} does not exist.\")\n",
        "\n",
        "#CREATE A DICTIONARY TO STORE ALL THE CLASSES OF BRAIN TUMOUR\n",
        "brain_tumour_dic = {'No_tumor' : list(dataset_directory.glob('notumor/*')),\n",
        "                    'glioma' : list(dataset_directory.glob('glioma/*')),\n",
        "                    'meningioma' : list(dataset_directory.glob('meningioma/*')),\n",
        "                    'pituitary' : list(dataset_directory.glob('pituitary/*'))\n",
        "                   }\n",
        "print(\"Total Image is \", len(brain_tumour_dic['No_tumor'])+ len(brain_tumour_dic['glioma'])+ len(brain_tumour_dic['meningioma'])+ len(brain_tumour_dic['pituitary']),\"\\n\")\n",
        "\n",
        "print(brain_tumour_dic.keys())\n",
        "\n",
        "len(brain_tumour_dic['No_tumor']), len(brain_tumour_dic['glioma']), len(brain_tumour_dic['meningioma']), len(brain_tumour_dic['pituitary'])"
      ]
    },
    {
      "cell_type": "markdown",
      "id": "48bf18cf-429d-45bb-926b-7d81a40504e7",
      "metadata": {
        "id": "48bf18cf-429d-45bb-926b-7d81a40504e7"
      },
      "source": [
        "### View Dataset"
      ]
    },
    {
      "cell_type": "code",
      "execution_count": null,
      "id": "539504bb",
      "metadata": {
        "id": "539504bb"
      },
      "outputs": [],
      "source": [
        "Image.open(str(brain_tumour_dic['No_tumor'][3]))"
      ]
    },
    {
      "cell_type": "code",
      "execution_count": null,
      "id": "b4f18707",
      "metadata": {
        "id": "b4f18707"
      },
      "outputs": [],
      "source": [
        "Image.open(brain_tumour_dic['pituitary'][5])"
      ]
    },
    {
      "cell_type": "code",
      "execution_count": null,
      "id": "bb071d5c-673b-4c0e-afe3-e48769efb093",
      "metadata": {
        "id": "bb071d5c-673b-4c0e-afe3-e48769efb093"
      },
      "outputs": [],
      "source": [
        "brain_tumour_label = {'No_tumor':0,\n",
        "                     'glioma':1,\n",
        "                      'meningioma':2,\n",
        "                      'pituitary':3\n",
        "                    }"
      ]
    },
    {
      "cell_type": "code",
      "execution_count": null,
      "id": "db5b38e8-80c8-4efd-9714-f9b18a6504a7",
      "metadata": {
        "id": "db5b38e8-80c8-4efd-9714-f9b18a6504a7"
      },
      "outputs": [],
      "source": [
        "img_conv = cv2.imread(brain_tumour_dic ['pituitary'][4])\n",
        "img_conv.shape"
      ]
    },
    {
      "cell_type": "markdown",
      "id": "2765f867-b255-49f2-9000-bce42e771cd6",
      "metadata": {
        "id": "2765f867-b255-49f2-9000-bce42e771cd6"
      },
      "source": [
        "### Resize all Images"
      ]
    },
    {
      "cell_type": "code",
      "execution_count": null,
      "id": "6f61136a-9003-498b-aba4-0b84dc81b58f",
      "metadata": {
        "id": "6f61136a-9003-498b-aba4-0b84dc81b58f"
      },
      "outputs": [],
      "source": [
        "# Initialize lists to hold images and labels\n",
        "images = []\n",
        "labels = []\n",
        "# Load images and labels\n",
        "for label_name, image_paths in brain_tumour_dic.items():\n",
        "    label = brain_tumour_label[label_name]\n",
        "    for img_path in image_paths:\n",
        "        # Load image\n",
        "        image = Image.open(img_path).convert('L')  # Convert to grayscale\n",
        "        image = image.resize((128, 128))  # Resize to desired size\n",
        "        image = np.array(image) / 255.0  # Normalize to [0, 1]\n",
        "\n",
        "        images.append(image)\n",
        "        labels.append(label)"
      ]
    },
    {
      "cell_type": "code",
      "execution_count": null,
      "id": "f70e36e4-9d17-4440-8162-5ccf82cfa87c",
      "metadata": {
        "id": "f70e36e4-9d17-4440-8162-5ccf82cfa87c"
      },
      "outputs": [],
      "source": [
        "# convert into a numpy array\n",
        "resized_image = np.array(images)\n",
        "image_label = np.array(labels)\n",
        "\n",
        "# Ensure correct shape: (num_samples, height, width, channels)\n",
        "resized_image = np.expand_dims(resized_image, axis=-1)  # Add channel dimension"
      ]
    },
    {
      "cell_type": "markdown",
      "id": "9dd9afe1-f1c0-4707-bd8b-5bf3236fa40f",
      "metadata": {
        "id": "9dd9afe1-f1c0-4707-bd8b-5bf3236fa40f"
      },
      "source": [
        "### Split Dataset"
      ]
    },
    {
      "cell_type": "code",
      "execution_count": null,
      "id": "d9ee6c02-a072-431b-a1bd-8b1ee9a18e05",
      "metadata": {
        "id": "d9ee6c02-a072-431b-a1bd-8b1ee9a18e05"
      },
      "outputs": [],
      "source": [
        "Xtrain,Xtest, Ytrain,Ytest = train_test_split(resized_image, image_label,test_size=0.2,random_state=42)\n",
        "\n",
        "print(\"Training data shape:\", Xtrain.shape)\n",
        "print(\"Validation data shape:\", Xtest.shape)\n",
        "print(\"Training labels shape:\", Ytrain.shape)\n",
        "print(\"Validation labels shape:\", Ytest.shape)"
      ]
    },
    {
      "cell_type": "markdown",
      "id": "ff198516",
      "metadata": {
        "id": "ff198516"
      },
      "source": [
        "### One-Hot Encode Labels"
      ]
    },
    {
      "cell_type": "code",
      "execution_count": null,
      "id": "46188268",
      "metadata": {
        "id": "46188268"
      },
      "outputs": [],
      "source": [
        "num_classes = 4  # Number of classes\n",
        "\n",
        "# Function to convert class labels to one-hot encoding\n",
        "def one_hot_encode_labels(y_data, height, width, num_classes):\n",
        "    # y_data should have shape (num_samples,)\n",
        "    # Create an empty array with the desired shape\n",
        "    y_one_hot = np.zeros((y_data.shape[0], height, width, num_classes), dtype=np.float32)\n",
        "\n",
        "    for i in range(y_data.shape[0]):\n",
        "        label = y_data[i]\n",
        "        y_one_hot[i, :, :, label] = 1\n",
        "\n",
        "    return y_one_hot\n",
        "\n",
        "height, width = 128, 128  # Adjust according to your image size\n",
        "y_train_one_hot = one_hot_encode_labels(Ytrain, height, width, num_classes)\n",
        "y_val_one_hot = one_hot_encode_labels(Ytest, height, width, num_classes)\n",
        "\n",
        "print(\"One-hot encoded training labels shape:\", y_train_one_hot.shape)\n",
        "print(\"One-hot encoded validation labels shape:\", y_val_one_hot.shape)"
      ]
    },
    {
      "cell_type": "markdown",
      "id": "e0a273af-9e45-46b6-9615-fb808cdea558",
      "metadata": {
        "id": "e0a273af-9e45-46b6-9615-fb808cdea558"
      },
      "source": [
        "### Class Balancing"
      ]
    },
    {
      "cell_type": "raw",
      "id": "0283cf06",
      "metadata": {
        "id": "0283cf06"
      },
      "source": [
        "def oversample_data(X, y):\n",
        "    classes, counts = np.unique(y, return_counts=True)\n",
        "    max_class_size = max(counts)\n",
        "\n",
        "\n",
        "    X_balanced = []\n",
        "    y_balanced = []\n",
        "    for c in classes:\n",
        "\n",
        "        X_c = X[y ==c]\n",
        "        y_c = y[y==c]\n",
        "        X_c_resampled, y_c_resampled = resample(X_c, y_c, replace=True, n_samples=max_class_size, random_state=42)\n",
        "        X_balanced.append(X_c_resampled)\n",
        "        y_balanced.append(y_c_resampled)\n",
        "\n",
        "    return np.vstack(X_balanced), np.hstack(y_balanced)\n",
        "\n",
        "\n",
        "x_train_resampled, y_train_resampled = oversample_data(rescaled_Xtrain, Ytrain)"
      ]
    },
    {
      "cell_type": "raw",
      "id": "d0be6073",
      "metadata": {
        "id": "d0be6073"
      },
      "source": [
        "x_train_resampled.shape, y_train_resampled.shape"
      ]
    },
    {
      "cell_type": "markdown",
      "id": "6aa1ace1-f15d-49c1-b720-aa0742112dd9",
      "metadata": {
        "id": "6aa1ace1-f15d-49c1-b720-aa0742112dd9"
      },
      "source": [
        "## Image Segmentation"
      ]
    },
    {
      "cell_type": "code",
      "execution_count": null,
      "id": "93a9089c-2bfa-422e-ace4-312ce9a730f1",
      "metadata": {
        "id": "93a9089c-2bfa-422e-ace4-312ce9a730f1"
      },
      "outputs": [],
      "source": [
        "from tensorflow.keras.layers import Input, Conv2D, MaxPooling2D, UpSampling2D, concatenate\n",
        "from tensorflow.keras.models import Model\n",
        "\n",
        "def unet_model(input_size, num_classes=4):\n",
        "    inputs = Input(input_size)\n",
        "\n",
        "    # Downsample\n",
        "    c1 = Conv2D(64, (3, 3), activation='relu', padding='same')(inputs)\n",
        "    c1 = Conv2D(64, (3, 3), activation='relu', padding='same')(c1)\n",
        "    p1 = MaxPooling2D((2, 2))(c1)\n",
        "\n",
        "    c2 = Conv2D(128, (3, 3), activation='relu', padding='same')(p1)\n",
        "    c2 = Conv2D(128, (3, 3), activation='relu', padding='same')(c2)\n",
        "    p2 = MaxPooling2D((2, 2))(c2)\n",
        "\n",
        "    # Bottleneck\n",
        "    c5 = Conv2D(1024, (3, 3), activation='relu', padding='same')(p2)\n",
        "    c5 = Conv2D(1024, (3, 3), activation='relu', padding='same')(c5)\n",
        "\n",
        "    # Upsample\n",
        "    u6 = UpSampling2D((2, 2))(c5)\n",
        "    u6 = concatenate([u6, c2])\n",
        "    c6 = Conv2D(128, (3, 3), activation='relu', padding='same')(u6)\n",
        "    c6 = Conv2D(128, (3, 3), activation='relu', padding='same')(c6)\n",
        "\n",
        "    u7 = UpSampling2D((2, 2))(c6)\n",
        "    u7 = concatenate([u7, c1])\n",
        "    c7 = Conv2D(64, (3, 3), activation='relu', padding='same')(u7)\n",
        "    c7 = Conv2D(64, (3, 3), activation='relu', padding='same')(c7)\n",
        "\n",
        "    outputs = Conv2D(num_classes, (1, 1), activation='softmax')(c7)\n",
        "\n",
        "    model = Model(inputs=[inputs], outputs=[outputs])\n",
        "    return model"
      ]
    },
    {
      "cell_type": "code",
      "execution_count": null,
      "id": "f89701bf",
      "metadata": {
        "scrolled": false,
        "id": "f89701bf"
      },
      "outputs": [],
      "source": [
        "# Define input size\n",
        "input_size = (128, 128, 1)\n",
        "num_classes=4\n",
        "# Get the U-Net model\n",
        "model = unet_model(input_size,num_classes)\n",
        "\n",
        "# Compile the model with categorical_crossentropy loss\n",
        "model.compile(optimizer='adam', loss='categorical_crossentropy', metrics=['accuracy'])\n",
        "model.summary()"
      ]
    },
    {
      "cell_type": "markdown",
      "id": "51f1e3a8-fe92-485c-b5ce-cb5721d92ccf",
      "metadata": {
        "id": "51f1e3a8-fe92-485c-b5ce-cb5721d92ccf"
      },
      "source": [
        "### Data Augumentation"
      ]
    },
    {
      "cell_type": "code",
      "execution_count": null,
      "id": "781b347f-d2f8-4d90-84d7-a4c48aca22ac",
      "metadata": {
        "scrolled": true,
        "id": "781b347f-d2f8-4d90-84d7-a4c48aca22ac"
      },
      "outputs": [],
      "source": [
        "# Define data augmentation\n",
        "datagen = ImageDataGenerator(\n",
        "    rotation_range=10,\n",
        "    width_shift_range=0.1,\n",
        "    height_shift_range=0.1,\n",
        "    shear_range=0.1,\n",
        "    zoom_range=0.1,\n",
        "    horizontal_flip=True,\n",
        "    fill_mode='nearest'\n",
        ")\n",
        "\n",
        "datagen.fit(Xtrain)"
      ]
    },
    {
      "cell_type": "code",
      "execution_count": null,
      "id": "dcb37b5e",
      "metadata": {
        "id": "dcb37b5e"
      },
      "outputs": [],
      "source": [
        "# Example training\n",
        "history = model.fit(\n",
        "    datagen.flow(Xtrain, y_train_one_hot, batch_size=16),\n",
        "    steps_per_epoch=len(Xtrain) // 16,\n",
        "    epochs=10,\n",
        "    validation_data=(Xtest, y_val_one_hot)\n",
        ")"
      ]
    },
    {
      "cell_type": "code",
      "execution_count": null,
      "id": "50658fcd-8bae-4578-a607-f44e356763ec",
      "metadata": {
        "id": "50658fcd-8bae-4578-a607-f44e356763ec"
      },
      "outputs": [],
      "source": []
    }
  ],
  "metadata": {
    "kernelspec": {
      "display_name": "Python 3 (ipykernel)",
      "language": "python",
      "name": "python3"
    },
    "language_info": {
      "codemirror_mode": {
        "name": "ipython",
        "version": 3
      },
      "file_extension": ".py",
      "mimetype": "text/x-python",
      "name": "python",
      "nbconvert_exporter": "python",
      "pygments_lexer": "ipython3",
      "version": "3.10.9"
    },
    "colab": {
      "provenance": [],
      "include_colab_link": true
    }
  },
  "nbformat": 4,
  "nbformat_minor": 5
}