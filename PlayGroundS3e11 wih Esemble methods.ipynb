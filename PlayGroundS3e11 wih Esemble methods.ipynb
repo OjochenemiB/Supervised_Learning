{
 "cells": [
  {
   "cell_type": "code",
   "execution_count": 1,
   "id": "09735224",
   "metadata": {},
   "outputs": [],
   "source": [
    "import pandas as pd\n",
    "import numpy as np\n",
    "import matplotlib.pyplot as plt\n",
    "import seaborn as sns\n",
    "from sklearn.base import BaseEstimator, TransformerMixin"
   ]
  },
  {
   "cell_type": "code",
   "execution_count": 2,
   "id": "d01adc43",
   "metadata": {},
   "outputs": [],
   "source": [
    "train_data = pd.read_csv('C:/Datasets/Playground 11/train.csv')\n",
    "test_data = pd.read_csv('C:/Datasets/Playground 11/test.csv')"
   ]
  },
  {
   "cell_type": "code",
   "execution_count": 3,
   "id": "a673f9f7",
   "metadata": {},
   "outputs": [
    {
     "data": {
      "text/html": [
       "<div>\n",
       "<style scoped>\n",
       "    .dataframe tbody tr th:only-of-type {\n",
       "        vertical-align: middle;\n",
       "    }\n",
       "\n",
       "    .dataframe tbody tr th {\n",
       "        vertical-align: top;\n",
       "    }\n",
       "\n",
       "    .dataframe thead th {\n",
       "        text-align: right;\n",
       "    }\n",
       "</style>\n",
       "<table border=\"1\" class=\"dataframe\">\n",
       "  <thead>\n",
       "    <tr style=\"text-align: right;\">\n",
       "      <th></th>\n",
       "      <th>id</th>\n",
       "      <th>store_sales(in millions)</th>\n",
       "      <th>unit_sales(in millions)</th>\n",
       "      <th>total_children</th>\n",
       "      <th>num_children_at_home</th>\n",
       "      <th>avg_cars_at home(approx).1</th>\n",
       "      <th>gross_weight</th>\n",
       "      <th>recyclable_package</th>\n",
       "      <th>low_fat</th>\n",
       "      <th>units_per_case</th>\n",
       "      <th>store_sqft</th>\n",
       "      <th>coffee_bar</th>\n",
       "      <th>video_store</th>\n",
       "      <th>salad_bar</th>\n",
       "      <th>prepared_food</th>\n",
       "      <th>florist</th>\n",
       "      <th>cost</th>\n",
       "    </tr>\n",
       "  </thead>\n",
       "  <tbody>\n",
       "    <tr>\n",
       "      <th>0</th>\n",
       "      <td>0</td>\n",
       "      <td>8.61</td>\n",
       "      <td>3.0</td>\n",
       "      <td>2.0</td>\n",
       "      <td>2.0</td>\n",
       "      <td>2.0</td>\n",
       "      <td>10.30</td>\n",
       "      <td>1.0</td>\n",
       "      <td>0.0</td>\n",
       "      <td>32.0</td>\n",
       "      <td>36509.0</td>\n",
       "      <td>0.0</td>\n",
       "      <td>0.0</td>\n",
       "      <td>0.0</td>\n",
       "      <td>0.0</td>\n",
       "      <td>0.0</td>\n",
       "      <td>62.09</td>\n",
       "    </tr>\n",
       "    <tr>\n",
       "      <th>1</th>\n",
       "      <td>1</td>\n",
       "      <td>5.00</td>\n",
       "      <td>2.0</td>\n",
       "      <td>4.0</td>\n",
       "      <td>0.0</td>\n",
       "      <td>3.0</td>\n",
       "      <td>6.66</td>\n",
       "      <td>1.0</td>\n",
       "      <td>0.0</td>\n",
       "      <td>1.0</td>\n",
       "      <td>28206.0</td>\n",
       "      <td>1.0</td>\n",
       "      <td>0.0</td>\n",
       "      <td>0.0</td>\n",
       "      <td>0.0</td>\n",
       "      <td>0.0</td>\n",
       "      <td>121.80</td>\n",
       "    </tr>\n",
       "    <tr>\n",
       "      <th>2</th>\n",
       "      <td>2</td>\n",
       "      <td>14.08</td>\n",
       "      <td>4.0</td>\n",
       "      <td>0.0</td>\n",
       "      <td>0.0</td>\n",
       "      <td>3.0</td>\n",
       "      <td>21.30</td>\n",
       "      <td>1.0</td>\n",
       "      <td>0.0</td>\n",
       "      <td>26.0</td>\n",
       "      <td>21215.0</td>\n",
       "      <td>1.0</td>\n",
       "      <td>0.0</td>\n",
       "      <td>0.0</td>\n",
       "      <td>0.0</td>\n",
       "      <td>0.0</td>\n",
       "      <td>83.51</td>\n",
       "    </tr>\n",
       "    <tr>\n",
       "      <th>3</th>\n",
       "      <td>3</td>\n",
       "      <td>4.02</td>\n",
       "      <td>3.0</td>\n",
       "      <td>5.0</td>\n",
       "      <td>0.0</td>\n",
       "      <td>0.0</td>\n",
       "      <td>14.80</td>\n",
       "      <td>0.0</td>\n",
       "      <td>1.0</td>\n",
       "      <td>36.0</td>\n",
       "      <td>21215.0</td>\n",
       "      <td>1.0</td>\n",
       "      <td>0.0</td>\n",
       "      <td>0.0</td>\n",
       "      <td>0.0</td>\n",
       "      <td>0.0</td>\n",
       "      <td>66.78</td>\n",
       "    </tr>\n",
       "    <tr>\n",
       "      <th>4</th>\n",
       "      <td>4</td>\n",
       "      <td>2.13</td>\n",
       "      <td>3.0</td>\n",
       "      <td>5.0</td>\n",
       "      <td>0.0</td>\n",
       "      <td>3.0</td>\n",
       "      <td>17.00</td>\n",
       "      <td>1.0</td>\n",
       "      <td>1.0</td>\n",
       "      <td>20.0</td>\n",
       "      <td>27694.0</td>\n",
       "      <td>1.0</td>\n",
       "      <td>1.0</td>\n",
       "      <td>1.0</td>\n",
       "      <td>1.0</td>\n",
       "      <td>1.0</td>\n",
       "      <td>111.51</td>\n",
       "    </tr>\n",
       "  </tbody>\n",
       "</table>\n",
       "</div>"
      ],
      "text/plain": [
       "   id  store_sales(in millions)  unit_sales(in millions)  total_children  \\\n",
       "0   0                      8.61                      3.0             2.0   \n",
       "1   1                      5.00                      2.0             4.0   \n",
       "2   2                     14.08                      4.0             0.0   \n",
       "3   3                      4.02                      3.0             5.0   \n",
       "4   4                      2.13                      3.0             5.0   \n",
       "\n",
       "   num_children_at_home  avg_cars_at home(approx).1  gross_weight  \\\n",
       "0                   2.0                         2.0         10.30   \n",
       "1                   0.0                         3.0          6.66   \n",
       "2                   0.0                         3.0         21.30   \n",
       "3                   0.0                         0.0         14.80   \n",
       "4                   0.0                         3.0         17.00   \n",
       "\n",
       "   recyclable_package  low_fat  units_per_case  store_sqft  coffee_bar  \\\n",
       "0                 1.0      0.0            32.0     36509.0         0.0   \n",
       "1                 1.0      0.0             1.0     28206.0         1.0   \n",
       "2                 1.0      0.0            26.0     21215.0         1.0   \n",
       "3                 0.0      1.0            36.0     21215.0         1.0   \n",
       "4                 1.0      1.0            20.0     27694.0         1.0   \n",
       "\n",
       "   video_store  salad_bar  prepared_food  florist    cost  \n",
       "0          0.0        0.0            0.0      0.0   62.09  \n",
       "1          0.0        0.0            0.0      0.0  121.80  \n",
       "2          0.0        0.0            0.0      0.0   83.51  \n",
       "3          0.0        0.0            0.0      0.0   66.78  \n",
       "4          1.0        1.0            1.0      1.0  111.51  "
      ]
     },
     "execution_count": 3,
     "metadata": {},
     "output_type": "execute_result"
    }
   ],
   "source": [
    "train_data.head()"
   ]
  },
  {
   "cell_type": "code",
   "execution_count": 4,
   "id": "11f8d5c6",
   "metadata": {},
   "outputs": [
    {
     "data": {
      "text/plain": [
       "array([1., 0.])"
      ]
     },
     "execution_count": 4,
     "metadata": {},
     "output_type": "execute_result"
    }
   ],
   "source": [
    "train_data['recyclable_package'].unique()"
   ]
  },
  {
   "cell_type": "code",
   "execution_count": 5,
   "id": "eea2dc5f",
   "metadata": {},
   "outputs": [
    {
     "data": {
      "text/html": [
       "<div>\n",
       "<style scoped>\n",
       "    .dataframe tbody tr th:only-of-type {\n",
       "        vertical-align: middle;\n",
       "    }\n",
       "\n",
       "    .dataframe tbody tr th {\n",
       "        vertical-align: top;\n",
       "    }\n",
       "\n",
       "    .dataframe thead th {\n",
       "        text-align: right;\n",
       "    }\n",
       "</style>\n",
       "<table border=\"1\" class=\"dataframe\">\n",
       "  <thead>\n",
       "    <tr style=\"text-align: right;\">\n",
       "      <th></th>\n",
       "      <th>id</th>\n",
       "      <th>store_sales(in millions)</th>\n",
       "      <th>unit_sales(in millions)</th>\n",
       "      <th>total_children</th>\n",
       "      <th>num_children_at_home</th>\n",
       "      <th>avg_cars_at home(approx).1</th>\n",
       "      <th>gross_weight</th>\n",
       "      <th>recyclable_package</th>\n",
       "      <th>low_fat</th>\n",
       "      <th>units_per_case</th>\n",
       "      <th>store_sqft</th>\n",
       "      <th>coffee_bar</th>\n",
       "      <th>video_store</th>\n",
       "      <th>salad_bar</th>\n",
       "      <th>prepared_food</th>\n",
       "      <th>florist</th>\n",
       "    </tr>\n",
       "  </thead>\n",
       "  <tbody>\n",
       "    <tr>\n",
       "      <th>0</th>\n",
       "      <td>360336</td>\n",
       "      <td>7.24</td>\n",
       "      <td>4.0</td>\n",
       "      <td>1.0</td>\n",
       "      <td>0.0</td>\n",
       "      <td>2.0</td>\n",
       "      <td>10.80</td>\n",
       "      <td>0.0</td>\n",
       "      <td>1.0</td>\n",
       "      <td>7.0</td>\n",
       "      <td>20319.0</td>\n",
       "      <td>0.0</td>\n",
       "      <td>0.0</td>\n",
       "      <td>0.0</td>\n",
       "      <td>0.0</td>\n",
       "      <td>0.0</td>\n",
       "    </tr>\n",
       "    <tr>\n",
       "      <th>1</th>\n",
       "      <td>360337</td>\n",
       "      <td>6.90</td>\n",
       "      <td>2.0</td>\n",
       "      <td>2.0</td>\n",
       "      <td>2.0</td>\n",
       "      <td>3.0</td>\n",
       "      <td>8.51</td>\n",
       "      <td>1.0</td>\n",
       "      <td>0.0</td>\n",
       "      <td>4.0</td>\n",
       "      <td>33858.0</td>\n",
       "      <td>1.0</td>\n",
       "      <td>0.0</td>\n",
       "      <td>1.0</td>\n",
       "      <td>1.0</td>\n",
       "      <td>1.0</td>\n",
       "    </tr>\n",
       "    <tr>\n",
       "      <th>2</th>\n",
       "      <td>360338</td>\n",
       "      <td>8.34</td>\n",
       "      <td>3.0</td>\n",
       "      <td>0.0</td>\n",
       "      <td>0.0</td>\n",
       "      <td>3.0</td>\n",
       "      <td>8.77</td>\n",
       "      <td>0.0</td>\n",
       "      <td>1.0</td>\n",
       "      <td>14.0</td>\n",
       "      <td>39696.0</td>\n",
       "      <td>0.0</td>\n",
       "      <td>0.0</td>\n",
       "      <td>1.0</td>\n",
       "      <td>1.0</td>\n",
       "      <td>0.0</td>\n",
       "    </tr>\n",
       "    <tr>\n",
       "      <th>3</th>\n",
       "      <td>360339</td>\n",
       "      <td>5.48</td>\n",
       "      <td>2.0</td>\n",
       "      <td>3.0</td>\n",
       "      <td>3.0</td>\n",
       "      <td>2.0</td>\n",
       "      <td>21.90</td>\n",
       "      <td>1.0</td>\n",
       "      <td>0.0</td>\n",
       "      <td>9.0</td>\n",
       "      <td>23688.0</td>\n",
       "      <td>1.0</td>\n",
       "      <td>1.0</td>\n",
       "      <td>1.0</td>\n",
       "      <td>1.0</td>\n",
       "      <td>1.0</td>\n",
       "    </tr>\n",
       "    <tr>\n",
       "      <th>4</th>\n",
       "      <td>360340</td>\n",
       "      <td>4.80</td>\n",
       "      <td>3.0</td>\n",
       "      <td>2.0</td>\n",
       "      <td>0.0</td>\n",
       "      <td>2.0</td>\n",
       "      <td>10.90</td>\n",
       "      <td>1.0</td>\n",
       "      <td>0.0</td>\n",
       "      <td>11.0</td>\n",
       "      <td>27694.0</td>\n",
       "      <td>1.0</td>\n",
       "      <td>1.0</td>\n",
       "      <td>1.0</td>\n",
       "      <td>1.0</td>\n",
       "      <td>1.0</td>\n",
       "    </tr>\n",
       "  </tbody>\n",
       "</table>\n",
       "</div>"
      ],
      "text/plain": [
       "       id  store_sales(in millions)  unit_sales(in millions)  total_children  \\\n",
       "0  360336                      7.24                      4.0             1.0   \n",
       "1  360337                      6.90                      2.0             2.0   \n",
       "2  360338                      8.34                      3.0             0.0   \n",
       "3  360339                      5.48                      2.0             3.0   \n",
       "4  360340                      4.80                      3.0             2.0   \n",
       "\n",
       "   num_children_at_home  avg_cars_at home(approx).1  gross_weight  \\\n",
       "0                   0.0                         2.0         10.80   \n",
       "1                   2.0                         3.0          8.51   \n",
       "2                   0.0                         3.0          8.77   \n",
       "3                   3.0                         2.0         21.90   \n",
       "4                   0.0                         2.0         10.90   \n",
       "\n",
       "   recyclable_package  low_fat  units_per_case  store_sqft  coffee_bar  \\\n",
       "0                 0.0      1.0             7.0     20319.0         0.0   \n",
       "1                 1.0      0.0             4.0     33858.0         1.0   \n",
       "2                 0.0      1.0            14.0     39696.0         0.0   \n",
       "3                 1.0      0.0             9.0     23688.0         1.0   \n",
       "4                 1.0      0.0            11.0     27694.0         1.0   \n",
       "\n",
       "   video_store  salad_bar  prepared_food  florist  \n",
       "0          0.0        0.0            0.0      0.0  \n",
       "1          0.0        1.0            1.0      1.0  \n",
       "2          0.0        1.0            1.0      0.0  \n",
       "3          1.0        1.0            1.0      1.0  \n",
       "4          1.0        1.0            1.0      1.0  "
      ]
     },
     "execution_count": 5,
     "metadata": {},
     "output_type": "execute_result"
    }
   ],
   "source": [
    "test_data.head()"
   ]
  },
  {
   "cell_type": "code",
   "execution_count": 6,
   "id": "32a4fa87",
   "metadata": {},
   "outputs": [
    {
     "name": "stdout",
     "output_type": "stream",
     "text": [
      "<class 'pandas.core.frame.DataFrame'>\n",
      "RangeIndex: 360336 entries, 0 to 360335\n",
      "Data columns (total 17 columns):\n",
      " #   Column                      Non-Null Count   Dtype  \n",
      "---  ------                      --------------   -----  \n",
      " 0   id                          360336 non-null  int64  \n",
      " 1   store_sales(in millions)    360336 non-null  float64\n",
      " 2   unit_sales(in millions)     360336 non-null  float64\n",
      " 3   total_children              360336 non-null  float64\n",
      " 4   num_children_at_home        360336 non-null  float64\n",
      " 5   avg_cars_at home(approx).1  360336 non-null  float64\n",
      " 6   gross_weight                360336 non-null  float64\n",
      " 7   recyclable_package          360336 non-null  float64\n",
      " 8   low_fat                     360336 non-null  float64\n",
      " 9   units_per_case              360336 non-null  float64\n",
      " 10  store_sqft                  360336 non-null  float64\n",
      " 11  coffee_bar                  360336 non-null  float64\n",
      " 12  video_store                 360336 non-null  float64\n",
      " 13  salad_bar                   360336 non-null  float64\n",
      " 14  prepared_food               360336 non-null  float64\n",
      " 15  florist                     360336 non-null  float64\n",
      " 16  cost                        360336 non-null  float64\n",
      "dtypes: float64(16), int64(1)\n",
      "memory usage: 46.7 MB\n"
     ]
    }
   ],
   "source": [
    "train_data.info()"
   ]
  },
  {
   "cell_type": "code",
   "execution_count": 7,
   "id": "68fd1a7e",
   "metadata": {},
   "outputs": [
    {
     "name": "stdout",
     "output_type": "stream",
     "text": [
      "<class 'pandas.core.frame.DataFrame'>\n",
      "RangeIndex: 240224 entries, 0 to 240223\n",
      "Data columns (total 16 columns):\n",
      " #   Column                      Non-Null Count   Dtype  \n",
      "---  ------                      --------------   -----  \n",
      " 0   id                          240224 non-null  int64  \n",
      " 1   store_sales(in millions)    240224 non-null  float64\n",
      " 2   unit_sales(in millions)     240224 non-null  float64\n",
      " 3   total_children              240224 non-null  float64\n",
      " 4   num_children_at_home        240224 non-null  float64\n",
      " 5   avg_cars_at home(approx).1  240224 non-null  float64\n",
      " 6   gross_weight                240224 non-null  float64\n",
      " 7   recyclable_package          240224 non-null  float64\n",
      " 8   low_fat                     240224 non-null  float64\n",
      " 9   units_per_case              240224 non-null  float64\n",
      " 10  store_sqft                  240224 non-null  float64\n",
      " 11  coffee_bar                  240224 non-null  float64\n",
      " 12  video_store                 240224 non-null  float64\n",
      " 13  salad_bar                   240224 non-null  float64\n",
      " 14  prepared_food               240224 non-null  float64\n",
      " 15  florist                     240224 non-null  float64\n",
      "dtypes: float64(15), int64(1)\n",
      "memory usage: 29.3 MB\n"
     ]
    }
   ],
   "source": [
    "test_data.info()"
   ]
  },
  {
   "cell_type": "markdown",
   "id": "6cc95f68",
   "metadata": {},
   "source": [
    "----> Checking for missing Values"
   ]
  },
  {
   "cell_type": "code",
   "execution_count": 8,
   "id": "94322705",
   "metadata": {},
   "outputs": [
    {
     "data": {
      "text/plain": [
       "id                            0\n",
       "store_sales(in millions)      0\n",
       "unit_sales(in millions)       0\n",
       "total_children                0\n",
       "num_children_at_home          0\n",
       "avg_cars_at home(approx).1    0\n",
       "gross_weight                  0\n",
       "recyclable_package            0\n",
       "low_fat                       0\n",
       "units_per_case                0\n",
       "store_sqft                    0\n",
       "coffee_bar                    0\n",
       "video_store                   0\n",
       "salad_bar                     0\n",
       "prepared_food                 0\n",
       "florist                       0\n",
       "cost                          0\n",
       "dtype: int64"
      ]
     },
     "execution_count": 8,
     "metadata": {},
     "output_type": "execute_result"
    }
   ],
   "source": [
    "train_data.isna().sum()"
   ]
  },
  {
   "cell_type": "code",
   "execution_count": 9,
   "id": "3747ea3a",
   "metadata": {},
   "outputs": [
    {
     "data": {
      "text/plain": [
       "id                            0\n",
       "store_sales(in millions)      0\n",
       "unit_sales(in millions)       0\n",
       "total_children                0\n",
       "num_children_at_home          0\n",
       "avg_cars_at home(approx).1    0\n",
       "gross_weight                  0\n",
       "recyclable_package            0\n",
       "low_fat                       0\n",
       "units_per_case                0\n",
       "store_sqft                    0\n",
       "coffee_bar                    0\n",
       "video_store                   0\n",
       "salad_bar                     0\n",
       "prepared_food                 0\n",
       "florist                       0\n",
       "dtype: int64"
      ]
     },
     "execution_count": 9,
     "metadata": {},
     "output_type": "execute_result"
    }
   ],
   "source": [
    "test_data.isna().sum()"
   ]
  },
  {
   "cell_type": "markdown",
   "id": "eb42dedb",
   "metadata": {},
   "source": [
    "----> Remove Duplicates"
   ]
  },
  {
   "cell_type": "code",
   "execution_count": 10,
   "id": "60f96f78",
   "metadata": {},
   "outputs": [],
   "source": [
    "duplicated = train_data.duplicated(keep='first')\n",
    "removed_dup = train_data[~duplicated]\n"
   ]
  },
  {
   "cell_type": "markdown",
   "id": "fba51ea9",
   "metadata": {},
   "source": [
    "# EDA"
   ]
  },
  {
   "cell_type": "code",
   "execution_count": 11,
   "id": "a5f51137",
   "metadata": {},
   "outputs": [],
   "source": [
    "#sns.pairplot(train_data,hue='cost')"
   ]
  },
  {
   "cell_type": "code",
   "execution_count": 12,
   "id": "2500d46f",
   "metadata": {},
   "outputs": [
    {
     "data": {
      "image/png": "[encoded data removed]",
      "text/plain": [
       "<Figure size 1440x1080 with 20 Axes>"
      ]
     },
     "metadata": {
      "needs_background": "light"
     },
     "output_type": "display_data"
    }
   ],
   "source": [
    "#plt.figure())\n",
    "#p = sns.histplot(data=train_data, y=\"total_children\")\n",
    "train_data.hist(bins=50, figsize=(20,15))\n",
    "#p.set(xlabel = None)\n",
    "#p.set(ylabel = 'total_children')\n",
    "plt.show()"
   ]
  },
  {
   "cell_type": "code",
   "execution_count": 13,
   "id": "683f9276",
   "metadata": {},
   "outputs": [
    {
     "data": {
      "text/plain": [
       "<Figure size 1440x1080 with 0 Axes>"
      ]
     },
     "metadata": {},
     "output_type": "display_data"
    },
    {
     "data": {
      "image/png": "[encoded data removed]",
      "text/plain": [
       "<Figure size 360x360 with 1 Axes>"
      ]
     },
     "metadata": {
      "needs_background": "light"
     },
     "output_type": "display_data"
    }
   ],
   "source": [
    "plt.figure(figsize=(20,15))\n",
    "p = sns.displot(data=train_data, x='store_sqft', kind ='kde')\n",
    "p.set(xlabel='store_sqft', ylabel='count')\n",
    "plt.show()"
   ]
  },
  {
   "cell_type": "code",
   "execution_count": 14,
   "id": "f5416552",
   "metadata": {},
   "outputs": [],
   "source": [
    "train_dataset = train_data.drop('id', axis=1)\n",
    "test_dataset = test_data.drop('id', axis=1)"
   ]
  },
  {
   "cell_type": "code",
   "execution_count": 15,
   "id": "0f247018",
   "metadata": {
    "scrolled": true
   },
   "outputs": [
    {
     "data": {
      "text/html": [
       "<div>\n",
       "<style scoped>\n",
       "    .dataframe tbody tr th:only-of-type {\n",
       "        vertical-align: middle;\n",
       "    }\n",
       "\n",
       "    .dataframe tbody tr th {\n",
       "        vertical-align: top;\n",
       "    }\n",
       "\n",
       "    .dataframe thead th {\n",
       "        text-align: right;\n",
       "    }\n",
       "</style>\n",
       "<table border=\"1\" class=\"dataframe\">\n",
       "  <thead>\n",
       "    <tr style=\"text-align: right;\">\n",
       "      <th></th>\n",
       "      <th>store_sales(in millions)</th>\n",
       "      <th>unit_sales(in millions)</th>\n",
       "      <th>total_children</th>\n",
       "      <th>num_children_at_home</th>\n",
       "      <th>avg_cars_at home(approx).1</th>\n",
       "      <th>gross_weight</th>\n",
       "      <th>recyclable_package</th>\n",
       "      <th>low_fat</th>\n",
       "      <th>units_per_case</th>\n",
       "      <th>store_sqft</th>\n",
       "      <th>coffee_bar</th>\n",
       "      <th>video_store</th>\n",
       "      <th>salad_bar</th>\n",
       "      <th>prepared_food</th>\n",
       "      <th>florist</th>\n",
       "      <th>cost</th>\n",
       "    </tr>\n",
       "  </thead>\n",
       "  <tbody>\n",
       "    <tr>\n",
       "      <th>count</th>\n",
       "      <td>360336.000000</td>\n",
       "      <td>360336.000000</td>\n",
       "      <td>360336.000000</td>\n",
       "      <td>360336.000000</td>\n",
       "      <td>360336.000000</td>\n",
       "      <td>360336.000000</td>\n",
       "      <td>360336.000000</td>\n",
       "      <td>360336.000000</td>\n",
       "      <td>360336.000000</td>\n",
       "      <td>360336.000000</td>\n",
       "      <td>360336.000000</td>\n",
       "      <td>360336.000000</td>\n",
       "      <td>360336.000000</td>\n",
       "      <td>360336.000000</td>\n",
       "      <td>360336.000000</td>\n",
       "      <td>360336.000000</td>\n",
       "    </tr>\n",
       "    <tr>\n",
       "      <th>mean</th>\n",
       "      <td>6.337376</td>\n",
       "      <td>3.043881</td>\n",
       "      <td>2.456482</td>\n",
       "      <td>0.689390</td>\n",
       "      <td>2.203813</td>\n",
       "      <td>13.822071</td>\n",
       "      <td>0.568086</td>\n",
       "      <td>0.327797</td>\n",
       "      <td>18.972706</td>\n",
       "      <td>28180.333442</td>\n",
       "      <td>0.564839</td>\n",
       "      <td>0.277394</td>\n",
       "      <td>0.504807</td>\n",
       "      <td>0.504832</td>\n",
       "      <td>0.503191</td>\n",
       "      <td>99.614729</td>\n",
       "    </tr>\n",
       "    <tr>\n",
       "      <th>std</th>\n",
       "      <td>3.307980</td>\n",
       "      <td>0.784676</td>\n",
       "      <td>1.488992</td>\n",
       "      <td>1.214732</td>\n",
       "      <td>1.084293</td>\n",
       "      <td>4.614792</td>\n",
       "      <td>0.495343</td>\n",
       "      <td>0.469411</td>\n",
       "      <td>10.212912</td>\n",
       "      <td>5968.874074</td>\n",
       "      <td>0.495779</td>\n",
       "      <td>0.447713</td>\n",
       "      <td>0.499978</td>\n",
       "      <td>0.499977</td>\n",
       "      <td>0.499991</td>\n",
       "      <td>29.939435</td>\n",
       "    </tr>\n",
       "    <tr>\n",
       "      <th>min</th>\n",
       "      <td>0.510000</td>\n",
       "      <td>1.000000</td>\n",
       "      <td>0.000000</td>\n",
       "      <td>0.000000</td>\n",
       "      <td>0.000000</td>\n",
       "      <td>6.000000</td>\n",
       "      <td>0.000000</td>\n",
       "      <td>0.000000</td>\n",
       "      <td>1.000000</td>\n",
       "      <td>20319.000000</td>\n",
       "      <td>0.000000</td>\n",
       "      <td>0.000000</td>\n",
       "      <td>0.000000</td>\n",
       "      <td>0.000000</td>\n",
       "      <td>0.000000</td>\n",
       "      <td>50.790000</td>\n",
       "    </tr>\n",
       "    <tr>\n",
       "      <th>25%</th>\n",
       "      <td>3.720000</td>\n",
       "      <td>3.000000</td>\n",
       "      <td>1.000000</td>\n",
       "      <td>0.000000</td>\n",
       "      <td>1.000000</td>\n",
       "      <td>9.710000</td>\n",
       "      <td>0.000000</td>\n",
       "      <td>0.000000</td>\n",
       "      <td>10.000000</td>\n",
       "      <td>23593.000000</td>\n",
       "      <td>0.000000</td>\n",
       "      <td>0.000000</td>\n",
       "      <td>0.000000</td>\n",
       "      <td>0.000000</td>\n",
       "      <td>0.000000</td>\n",
       "      <td>70.320000</td>\n",
       "    </tr>\n",
       "    <tr>\n",
       "      <th>50%</th>\n",
       "      <td>5.780000</td>\n",
       "      <td>3.000000</td>\n",
       "      <td>2.000000</td>\n",
       "      <td>0.000000</td>\n",
       "      <td>2.000000</td>\n",
       "      <td>13.600000</td>\n",
       "      <td>1.000000</td>\n",
       "      <td>0.000000</td>\n",
       "      <td>20.000000</td>\n",
       "      <td>27694.000000</td>\n",
       "      <td>1.000000</td>\n",
       "      <td>0.000000</td>\n",
       "      <td>1.000000</td>\n",
       "      <td>1.000000</td>\n",
       "      <td>1.000000</td>\n",
       "      <td>98.810000</td>\n",
       "    </tr>\n",
       "    <tr>\n",
       "      <th>75%</th>\n",
       "      <td>8.400000</td>\n",
       "      <td>4.000000</td>\n",
       "      <td>4.000000</td>\n",
       "      <td>1.000000</td>\n",
       "      <td>3.000000</td>\n",
       "      <td>17.700000</td>\n",
       "      <td>1.000000</td>\n",
       "      <td>1.000000</td>\n",
       "      <td>28.000000</td>\n",
       "      <td>33858.000000</td>\n",
       "      <td>1.000000</td>\n",
       "      <td>1.000000</td>\n",
       "      <td>1.000000</td>\n",
       "      <td>1.000000</td>\n",
       "      <td>1.000000</td>\n",
       "      <td>126.620000</td>\n",
       "    </tr>\n",
       "    <tr>\n",
       "      <th>max</th>\n",
       "      <td>22.920000</td>\n",
       "      <td>6.000000</td>\n",
       "      <td>5.000000</td>\n",
       "      <td>5.000000</td>\n",
       "      <td>4.000000</td>\n",
       "      <td>21.900000</td>\n",
       "      <td>1.000000</td>\n",
       "      <td>1.000000</td>\n",
       "      <td>36.000000</td>\n",
       "      <td>39696.000000</td>\n",
       "      <td>1.000000</td>\n",
       "      <td>1.000000</td>\n",
       "      <td>1.000000</td>\n",
       "      <td>1.000000</td>\n",
       "      <td>1.000000</td>\n",
       "      <td>149.750000</td>\n",
       "    </tr>\n",
       "  </tbody>\n",
       "</table>\n",
       "</div>"
      ],
      "text/plain": [
       "       store_sales(in millions)  unit_sales(in millions)  total_children  \\\n",
       "count             360336.000000            360336.000000   360336.000000   \n",
       "mean                   6.337376                 3.043881        2.456482   \n",
       "std                    3.307980                 0.784676        1.488992   \n",
       "min                    0.510000                 1.000000        0.000000   \n",
       "25%                    3.720000                 3.000000        1.000000   \n",
       "50%                    5.780000                 3.000000        2.000000   \n",
       "75%                    8.400000                 4.000000        4.000000   \n",
       "max                   22.920000                 6.000000        5.000000   \n",
       "\n",
       "       num_children_at_home  avg_cars_at home(approx).1   gross_weight  \\\n",
       "count         360336.000000               360336.000000  360336.000000   \n",
       "mean               0.689390                    2.203813      13.822071   \n",
       "std                1.214732                    1.084293       4.614792   \n",
       "min                0.000000                    0.000000       6.000000   \n",
       "25%                0.000000                    1.000000       9.710000   \n",
       "50%                0.000000                    2.000000      13.600000   \n",
       "75%                1.000000                    3.000000      17.700000   \n",
       "max                5.000000                    4.000000      21.900000   \n",
       "\n",
       "       recyclable_package        low_fat  units_per_case     store_sqft  \\\n",
       "count       360336.000000  360336.000000   360336.000000  360336.000000   \n",
       "mean             0.568086       0.327797       18.972706   28180.333442   \n",
       "std              0.495343       0.469411       10.212912    5968.874074   \n",
       "min              0.000000       0.000000        1.000000   20319.000000   \n",
       "25%              0.000000       0.000000       10.000000   23593.000000   \n",
       "50%              1.000000       0.000000       20.000000   27694.000000   \n",
       "75%              1.000000       1.000000       28.000000   33858.000000   \n",
       "max              1.000000       1.000000       36.000000   39696.000000   \n",
       "\n",
       "          coffee_bar    video_store      salad_bar  prepared_food  \\\n",
       "count  360336.000000  360336.000000  360336.000000  360336.000000   \n",
       "mean        0.564839       0.277394       0.504807       0.504832   \n",
       "std         0.495779       0.447713       0.499978       0.499977   \n",
       "min         0.000000       0.000000       0.000000       0.000000   \n",
       "25%         0.000000       0.000000       0.000000       0.000000   \n",
       "50%         1.000000       0.000000       1.000000       1.000000   \n",
       "75%         1.000000       1.000000       1.000000       1.000000   \n",
       "max         1.000000       1.000000       1.000000       1.000000   \n",
       "\n",
       "             florist           cost  \n",
       "count  360336.000000  360336.000000  \n",
       "mean        0.503191      99.614729  \n",
       "std         0.499991      29.939435  \n",
       "min         0.000000      50.790000  \n",
       "25%         0.000000      70.320000  \n",
       "50%         1.000000      98.810000  \n",
       "75%         1.000000     126.620000  \n",
       "max         1.000000     149.750000  "
      ]
     },
     "execution_count": 15,
     "metadata": {},
     "output_type": "execute_result"
    }
   ],
   "source": [
    "train_dataset.describe()"
   ]
  },
  {
   "cell_type": "code",
   "execution_count": 16,
   "id": "480965b7",
   "metadata": {},
   "outputs": [
    {
     "data": {
      "text/plain": [
       "Index(['store_sales(in millions)', 'unit_sales(in millions)', 'total_children',\n",
       "       'num_children_at_home', 'avg_cars_at home(approx).1', 'gross_weight',\n",
       "       'recyclable_package', 'low_fat', 'units_per_case', 'store_sqft',\n",
       "       'coffee_bar', 'video_store', 'salad_bar', 'prepared_food', 'florist'],\n",
       "      dtype='object')"
      ]
     },
     "execution_count": 16,
     "metadata": {},
     "output_type": "execute_result"
    }
   ],
   "source": [
    "test_dataset.columns"
   ]
  },
  {
   "cell_type": "code",
   "execution_count": 17,
   "id": "82da48a1",
   "metadata": {},
   "outputs": [
    {
     "data": {
      "text/html": [
       "<div>\n",
       "<style scoped>\n",
       "    .dataframe tbody tr th:only-of-type {\n",
       "        vertical-align: middle;\n",
       "    }\n",
       "\n",
       "    .dataframe tbody tr th {\n",
       "        vertical-align: top;\n",
       "    }\n",
       "\n",
       "    .dataframe thead th {\n",
       "        text-align: right;\n",
       "    }\n",
       "</style>\n",
       "<table border=\"1\" class=\"dataframe\">\n",
       "  <thead>\n",
       "    <tr style=\"text-align: right;\">\n",
       "      <th></th>\n",
       "      <th>store_sales(in millions)</th>\n",
       "      <th>unit_sales(in millions)</th>\n",
       "      <th>total_children</th>\n",
       "      <th>num_children_at_home</th>\n",
       "      <th>avg_cars_at home(approx).1</th>\n",
       "      <th>gross_weight</th>\n",
       "      <th>recyclable_package</th>\n",
       "      <th>low_fat</th>\n",
       "      <th>units_per_case</th>\n",
       "      <th>store_sqft</th>\n",
       "      <th>coffee_bar</th>\n",
       "      <th>video_store</th>\n",
       "      <th>salad_bar</th>\n",
       "      <th>prepared_food</th>\n",
       "      <th>florist</th>\n",
       "    </tr>\n",
       "  </thead>\n",
       "  <tbody>\n",
       "    <tr>\n",
       "      <th>0</th>\n",
       "      <td>8.61</td>\n",
       "      <td>3.0</td>\n",
       "      <td>2.0</td>\n",
       "      <td>2.0</td>\n",
       "      <td>2.0</td>\n",
       "      <td>10.30</td>\n",
       "      <td>1.0</td>\n",
       "      <td>0.0</td>\n",
       "      <td>32.0</td>\n",
       "      <td>36509.0</td>\n",
       "      <td>0.0</td>\n",
       "      <td>0.0</td>\n",
       "      <td>0.0</td>\n",
       "      <td>0.0</td>\n",
       "      <td>0.0</td>\n",
       "    </tr>\n",
       "    <tr>\n",
       "      <th>1</th>\n",
       "      <td>5.00</td>\n",
       "      <td>2.0</td>\n",
       "      <td>4.0</td>\n",
       "      <td>0.0</td>\n",
       "      <td>3.0</td>\n",
       "      <td>6.66</td>\n",
       "      <td>1.0</td>\n",
       "      <td>0.0</td>\n",
       "      <td>1.0</td>\n",
       "      <td>28206.0</td>\n",
       "      <td>1.0</td>\n",
       "      <td>0.0</td>\n",
       "      <td>0.0</td>\n",
       "      <td>0.0</td>\n",
       "      <td>0.0</td>\n",
       "    </tr>\n",
       "    <tr>\n",
       "      <th>2</th>\n",
       "      <td>14.08</td>\n",
       "      <td>4.0</td>\n",
       "      <td>0.0</td>\n",
       "      <td>0.0</td>\n",
       "      <td>3.0</td>\n",
       "      <td>21.30</td>\n",
       "      <td>1.0</td>\n",
       "      <td>0.0</td>\n",
       "      <td>26.0</td>\n",
       "      <td>21215.0</td>\n",
       "      <td>1.0</td>\n",
       "      <td>0.0</td>\n",
       "      <td>0.0</td>\n",
       "      <td>0.0</td>\n",
       "      <td>0.0</td>\n",
       "    </tr>\n",
       "    <tr>\n",
       "      <th>3</th>\n",
       "      <td>4.02</td>\n",
       "      <td>3.0</td>\n",
       "      <td>5.0</td>\n",
       "      <td>0.0</td>\n",
       "      <td>0.0</td>\n",
       "      <td>14.80</td>\n",
       "      <td>0.0</td>\n",
       "      <td>1.0</td>\n",
       "      <td>36.0</td>\n",
       "      <td>21215.0</td>\n",
       "      <td>1.0</td>\n",
       "      <td>0.0</td>\n",
       "      <td>0.0</td>\n",
       "      <td>0.0</td>\n",
       "      <td>0.0</td>\n",
       "    </tr>\n",
       "    <tr>\n",
       "      <th>4</th>\n",
       "      <td>2.13</td>\n",
       "      <td>3.0</td>\n",
       "      <td>5.0</td>\n",
       "      <td>0.0</td>\n",
       "      <td>3.0</td>\n",
       "      <td>17.00</td>\n",
       "      <td>1.0</td>\n",
       "      <td>1.0</td>\n",
       "      <td>20.0</td>\n",
       "      <td>27694.0</td>\n",
       "      <td>1.0</td>\n",
       "      <td>1.0</td>\n",
       "      <td>1.0</td>\n",
       "      <td>1.0</td>\n",
       "      <td>1.0</td>\n",
       "    </tr>\n",
       "    <tr>\n",
       "      <th>...</th>\n",
       "      <td>...</td>\n",
       "      <td>...</td>\n",
       "      <td>...</td>\n",
       "      <td>...</td>\n",
       "      <td>...</td>\n",
       "      <td>...</td>\n",
       "      <td>...</td>\n",
       "      <td>...</td>\n",
       "      <td>...</td>\n",
       "      <td>...</td>\n",
       "      <td>...</td>\n",
       "      <td>...</td>\n",
       "      <td>...</td>\n",
       "      <td>...</td>\n",
       "      <td>...</td>\n",
       "    </tr>\n",
       "    <tr>\n",
       "      <th>360331</th>\n",
       "      <td>7.60</td>\n",
       "      <td>4.0</td>\n",
       "      <td>5.0</td>\n",
       "      <td>5.0</td>\n",
       "      <td>3.0</td>\n",
       "      <td>13.50</td>\n",
       "      <td>1.0</td>\n",
       "      <td>0.0</td>\n",
       "      <td>33.0</td>\n",
       "      <td>30268.0</td>\n",
       "      <td>0.0</td>\n",
       "      <td>0.0</td>\n",
       "      <td>0.0</td>\n",
       "      <td>0.0</td>\n",
       "      <td>0.0</td>\n",
       "    </tr>\n",
       "    <tr>\n",
       "      <th>360332</th>\n",
       "      <td>14.44</td>\n",
       "      <td>4.0</td>\n",
       "      <td>4.0</td>\n",
       "      <td>0.0</td>\n",
       "      <td>4.0</td>\n",
       "      <td>18.80</td>\n",
       "      <td>1.0</td>\n",
       "      <td>1.0</td>\n",
       "      <td>18.0</td>\n",
       "      <td>20319.0</td>\n",
       "      <td>0.0</td>\n",
       "      <td>0.0</td>\n",
       "      <td>0.0</td>\n",
       "      <td>0.0</td>\n",
       "      <td>0.0</td>\n",
       "    </tr>\n",
       "    <tr>\n",
       "      <th>360333</th>\n",
       "      <td>10.74</td>\n",
       "      <td>3.0</td>\n",
       "      <td>0.0</td>\n",
       "      <td>0.0</td>\n",
       "      <td>2.0</td>\n",
       "      <td>11.30</td>\n",
       "      <td>1.0</td>\n",
       "      <td>0.0</td>\n",
       "      <td>35.0</td>\n",
       "      <td>30584.0</td>\n",
       "      <td>1.0</td>\n",
       "      <td>1.0</td>\n",
       "      <td>1.0</td>\n",
       "      <td>1.0</td>\n",
       "      <td>1.0</td>\n",
       "    </tr>\n",
       "    <tr>\n",
       "      <th>360334</th>\n",
       "      <td>11.04</td>\n",
       "      <td>3.0</td>\n",
       "      <td>1.0</td>\n",
       "      <td>0.0</td>\n",
       "      <td>3.0</td>\n",
       "      <td>10.20</td>\n",
       "      <td>0.0</td>\n",
       "      <td>1.0</td>\n",
       "      <td>14.0</td>\n",
       "      <td>30584.0</td>\n",
       "      <td>1.0</td>\n",
       "      <td>1.0</td>\n",
       "      <td>1.0</td>\n",
       "      <td>1.0</td>\n",
       "      <td>1.0</td>\n",
       "    </tr>\n",
       "    <tr>\n",
       "      <th>360335</th>\n",
       "      <td>5.30</td>\n",
       "      <td>2.0</td>\n",
       "      <td>2.0</td>\n",
       "      <td>0.0</td>\n",
       "      <td>2.0</td>\n",
       "      <td>10.80</td>\n",
       "      <td>0.0</td>\n",
       "      <td>0.0</td>\n",
       "      <td>21.0</td>\n",
       "      <td>33858.0</td>\n",
       "      <td>1.0</td>\n",
       "      <td>0.0</td>\n",
       "      <td>1.0</td>\n",
       "      <td>1.0</td>\n",
       "      <td>1.0</td>\n",
       "    </tr>\n",
       "  </tbody>\n",
       "</table>\n",
       "<p>360336 rows × 15 columns</p>\n",
       "</div>"
      ],
      "text/plain": [
       "        store_sales(in millions)  unit_sales(in millions)  total_children  \\\n",
       "0                           8.61                      3.0             2.0   \n",
       "1                           5.00                      2.0             4.0   \n",
       "2                          14.08                      4.0             0.0   \n",
       "3                           4.02                      3.0             5.0   \n",
       "4                           2.13                      3.0             5.0   \n",
       "...                          ...                      ...             ...   \n",
       "360331                      7.60                      4.0             5.0   \n",
       "360332                     14.44                      4.0             4.0   \n",
       "360333                     10.74                      3.0             0.0   \n",
       "360334                     11.04                      3.0             1.0   \n",
       "360335                      5.30                      2.0             2.0   \n",
       "\n",
       "        num_children_at_home  avg_cars_at home(approx).1  gross_weight  \\\n",
       "0                        2.0                         2.0         10.30   \n",
       "1                        0.0                         3.0          6.66   \n",
       "2                        0.0                         3.0         21.30   \n",
       "3                        0.0                         0.0         14.80   \n",
       "4                        0.0                         3.0         17.00   \n",
       "...                      ...                         ...           ...   \n",
       "360331                   5.0                         3.0         13.50   \n",
       "360332                   0.0                         4.0         18.80   \n",
       "360333                   0.0                         2.0         11.30   \n",
       "360334                   0.0                         3.0         10.20   \n",
       "360335                   0.0                         2.0         10.80   \n",
       "\n",
       "        recyclable_package  low_fat  units_per_case  store_sqft  coffee_bar  \\\n",
       "0                      1.0      0.0            32.0     36509.0         0.0   \n",
       "1                      1.0      0.0             1.0     28206.0         1.0   \n",
       "2                      1.0      0.0            26.0     21215.0         1.0   \n",
       "3                      0.0      1.0            36.0     21215.0         1.0   \n",
       "4                      1.0      1.0            20.0     27694.0         1.0   \n",
       "...                    ...      ...             ...         ...         ...   \n",
       "360331                 1.0      0.0            33.0     30268.0         0.0   \n",
       "360332                 1.0      1.0            18.0     20319.0         0.0   \n",
       "360333                 1.0      0.0            35.0     30584.0         1.0   \n",
       "360334                 0.0      1.0            14.0     30584.0         1.0   \n",
       "360335                 0.0      0.0            21.0     33858.0         1.0   \n",
       "\n",
       "        video_store  salad_bar  prepared_food  florist  \n",
       "0               0.0        0.0            0.0      0.0  \n",
       "1               0.0        0.0            0.0      0.0  \n",
       "2               0.0        0.0            0.0      0.0  \n",
       "3               0.0        0.0            0.0      0.0  \n",
       "4               1.0        1.0            1.0      1.0  \n",
       "...             ...        ...            ...      ...  \n",
       "360331          0.0        0.0            0.0      0.0  \n",
       "360332          0.0        0.0            0.0      0.0  \n",
       "360333          1.0        1.0            1.0      1.0  \n",
       "360334          1.0        1.0            1.0      1.0  \n",
       "360335          0.0        1.0            1.0      1.0  \n",
       "\n",
       "[360336 rows x 15 columns]"
      ]
     },
     "execution_count": 17,
     "metadata": {},
     "output_type": "execute_result"
    }
   ],
   "source": [
    "outcomeVariable =train_dataset.cost\n",
    "inputVariable = train_dataset[['store_sales(in millions)', 'unit_sales(in millions)', 'total_children',\n",
    "       'num_children_at_home', 'avg_cars_at home(approx).1', 'gross_weight',\n",
    "       'recyclable_package', 'low_fat', 'units_per_case', 'store_sqft',\n",
    "       'coffee_bar', 'video_store', 'salad_bar', 'prepared_food', 'florist']]\n",
    "inputVariable"
   ]
  },
  {
   "cell_type": "markdown",
   "id": "08f5f152",
   "metadata": {},
   "source": [
    "# DataTransformation"
   ]
  },
  {
   "cell_type": "code",
   "execution_count": 18,
   "id": "6d9bc5c1",
   "metadata": {},
   "outputs": [],
   "source": [
    "from sklearn.preprocessing import MinMaxScaler\n",
    "class RescaleData(BaseEstimator, TransformerMixin):\n",
    "    def __init__(self, scaler='standard'):\n",
    "        self.scaler = scaler\n",
    "        if scaler == 'standard':\n",
    "            self.scaler_ = StandardScaler()\n",
    "        elif scaler == 'minmax':\n",
    "            self.scaler_ = MinMaxScaler()\n",
    "        else:\n",
    "            raise ValueError('Invalid scaler type specified.')\n",
    "    \n",
    "    def fit(self, X, y=None):\n",
    "        self.scaler_.fit(X)\n",
    "        return self\n",
    "    \n",
    "    def transform(self, X, y=None):\n",
    "        return self.scaler_.transform(X)\n",
    "    \n",
    "    def fit_transform(self, X, y=None):\n",
    "        return self.scaler_.fit_transform(X)"
   ]
  },
  {
   "cell_type": "code",
   "execution_count": 19,
   "id": "97fd9947",
   "metadata": {},
   "outputs": [],
   "source": []
  },
  {
   "cell_type": "markdown",
   "id": "c64aaf67",
   "metadata": {},
   "source": [
    "# FeatureSelection"
   ]
  },
  {
   "cell_type": "code",
   "execution_count": 20,
   "id": "47dfd375",
   "metadata": {},
   "outputs": [],
   "source": [
    "from sklearn.feature_selection import SelectKBest,chi2, RFE,mutual_info_classif\n",
    "\n",
    "class FeatureSelection(BaseEstimator, TransformerMixin):\n",
    "    def __init__(self, k=5):\n",
    "        self.k = k\n",
    "        \n",
    "    def fit(self, X, y=None):\n",
    "        from sklearn.feature_selection import SelectKBest, f_regression\n",
    "        self.selector = SelectKBest(f_regression, k=self.k)\n",
    "        self.selector.fit(X, y)\n",
    "        return self\n",
    "        \n",
    "    def transform(self, X):\n",
    "        return self.selector.transform(X)\n",
    "    \n",
    "    def get_support(self, indices=False):\n",
    "        return self.selector.get_support(indices=indices)"
   ]
  },
  {
   "cell_type": "markdown",
   "id": "6e0eb075",
   "metadata": {},
   "source": [
    "## ------> Pipeline"
   ]
  },
  {
   "cell_type": "code",
   "execution_count": 21,
   "id": "784ec5bd",
   "metadata": {
    "scrolled": true
   },
   "outputs": [
    {
     "data": {
      "text/plain": [
       "(360336, 10)"
      ]
     },
     "execution_count": 21,
     "metadata": {},
     "output_type": "execute_result"
    }
   ],
   "source": [
    "from sklearn.pipeline import Pipeline\n",
    "rescale  = RescaleData(scaler='standard')\n",
    "normalize = NormalizeData(norm='l2')\n",
    "featureSelect = FeatureSelection(k=10)\n",
    "pipeline = Pipeline(steps=[('rescale', rescale), ('normalize', normalize),('featureSelect', featureSelect)])\n",
    "processedData = pipeline.fit_transform(inputVariable,outcomeVariable )\n",
    "processedData.shape"
   ]
  },
  {
   "cell_type": "code",
   "execution_count": 22,
   "id": "55c28043",
   "metadata": {},
   "outputs": [
    {
     "data": {
      "text/plain": [
       "(360336,)"
      ]
     },
     "execution_count": 22,
     "metadata": {},
     "output_type": "execute_result"
    }
   ],
   "source": [
    "outcomeVariable.shape"
   ]
  },
  {
   "cell_type": "code",
   "execution_count": null,
   "id": "7ba9e437",
   "metadata": {},
   "outputs": [],
   "source": []
  },
  {
   "cell_type": "markdown",
   "id": "0a0c9874",
   "metadata": {},
   "source": [
    "# Model Building using Ensemling method"
   ]
  },
  {
   "cell_type": "code",
   "execution_count": null,
   "id": "d53b64fd",
   "metadata": {},
   "outputs": [],
   "source": [
    "from sklearn.model_selection import train_test_split\n",
    "from sklearn.metrics import mean_squared_error as MSE\n",
    "X_train, X_test, Y_tarin, Y_test= train_test_split(processedData, outcomeVariable ,test_size=0.3,random_state=42)"
   ]
  },
  {
   "cell_type": "markdown",
   "id": "27fe48cf",
   "metadata": {},
   "source": [
    "## Bagging "
   ]
  },
  {
   "cell_type": "markdown",
   "id": "be00e73f",
   "metadata": {},
   "source": [
    "###           Random Forest"
   ]
  },
  {
   "cell_type": "code",
   "execution_count": 24,
   "id": "92ad9a15",
   "metadata": {},
   "outputs": [
    {
     "name": "stdout",
     "output_type": "stream",
     "text": [
      "918.0818382979169\n"
     ]
    }
   ],
   "source": [
    "from sklearn.ensemble import RandomForestRegressor\n",
    "\n",
    "\n",
    "\"\"\"\n",
    "model=RandomForestClassifier() # uses default\n",
    "_estimatorArray=[10,20,30,40,60,100,200]\n",
    "trainResults = []\n",
    "testResults = []\n",
    "for estimators in _estimatorArray:\n",
    "model=RandomForestClassifier(n_estimators=_estimatorArray,n_jobs=1)\n",
    "\n",
    "    model.fit(X_train,Y_tarin)\n",
    "    predicted_Y_train= model.predict(X_train)\n",
    "    false_positive_rate, true_positive_rate, thresholds= roc_curve(Y_tarin,predicted_Y_train)\n",
    "    roc_auc = auc(false_positive_rate,true_positive_rate)\n",
    "    trainResults.append(roc_auc)\n",
    "    predicted_Y_test= model.predict(X_tes)\n",
    "    false_positive_rate, true_positive_rate, thresholds= roc_curve(Y_test,predicted_Y_test)\n",
    "    roc_auc = auc(false_positive_rate,true_positive_rate)\n",
    "    testResults.append(roc_auc)\n",
    "from matplotlib.legend_handler import HandlerLine2D\n",
    "line1, = plt.plot(n_estimators, trainResults,\"blue(b)\", label=\"Train AUC\")\n",
    "line2, = plt.plot(n_estimators, testResults,\"red(r)\", label=\"Test AUC\")\n",
    "plt.legend(handler_map ={line1:Handler2D(numpoints=2)})\n",
    "plt.ylabel(\"AUC Score\")\n",
    "plt.xlabel(\"_estimatorArray\")\n",
    "plt.show()\n",
    "\"\"\"\n",
    "\n",
    "\n",
    "model=RandomForestRegressor()\n",
    "model.fit(X_train,Y_tarin)\n",
    "predicted_Y= model.predict(X_test)\n",
    "MSQE = MSE(Y_test,predicted_Y)\n",
    "print(MSQE)\n",
    "processedTestData = pipeline.transform(test_dataset)"
   ]
  },
  {
   "cell_type": "markdown",
   "id": "42679ef3",
   "metadata": {},
   "source": [
    "## BOOSTING"
   ]
  },
  {
   "cell_type": "markdown",
   "id": "c8e69847",
   "metadata": {},
   "source": [
    "### Boosting Algorithm (AdaBoost)"
   ]
  },
  {
   "cell_type": "code",
   "execution_count": 26,
   "id": "2d73a878",
   "metadata": {},
   "outputs": [
    {
     "name": "stdout",
     "output_type": "stream",
     "text": [
      "859.861860002407\n"
     ]
    }
   ],
   "source": [
    "from sklearn.ensemble import AdaBoostRegressor\n",
    "import warnings\n",
    "warnings.filterwarnings('ignore') # This is to ignore some of the warnings\n",
    "Adaboost_model = AdaBoostRegressor(n_estimators=100, learning_rate=1) \n",
    "# n_estimators means number of weak learners to train iteratively\n",
    "#learning_rate: it contributes to the weights of weak learners, it uses 1 as default value\n",
    "Adaboost_model.fit(X_train,Y_tarin)\n",
    "Predicted_Y= Adaboost_model.predict(X_test)\n",
    "MSQE = MSE(Y_test, Predicted_Y)\n",
    "print(MSQE)"
   ]
  },
  {
   "cell_type": "markdown",
   "id": "9851becc",
   "metadata": {},
   "source": [
    "### Boosting Algorithm (GradientBoost)"
   ]
  },
  {
   "cell_type": "code",
   "execution_count": null,
   "id": "b8079319",
   "metadata": {},
   "outputs": [],
   "source": [
    "from sklearn.ensemble import GradientBoostingRegressor\n",
    "Grad_model =GradientBoostingRegressor(max_depth=5, n_estimators=250,learning_rate=0.1)\n",
    "Grad_model.fit(X_train,Y_tarin)\n",
    "Predicted_Y= Grad_model.predict(X_test)\n",
    "MSQE = MSE(Y_test, Predicted_Y)\n",
    "print(MSQE) \n",
    "Grad_model.feature_importances_"
   ]
  },
  {
   "cell_type": "markdown",
   "id": "56d185a6",
   "metadata": {},
   "source": [
    "#            Hyperparmeters Tuning"
   ]
  },
  {
   "cell_type": "markdown",
   "id": "28297e51",
   "metadata": {},
   "source": [
    "## GridSearchCV - used when data is small(1000-10000)and when hyperparameters is minimal but can also be used when it is sure that some Hyperparameters are important to the accuracy of the model.\n"
   ]
  },
  {
   "cell_type": "code",
   "execution_count": null,
   "id": "4f1d5bff",
   "metadata": {},
   "outputs": [],
   "source": [
    "\"\"\"from sklearn.model_selection import GridSearchCV\n",
    "LR={'learning_rate':[0.15,0.1,1.0,0.05],'n_estimators':[100,150,200,250]}\n",
    "tuning =GridSearchCV(estimator= GradientBoostingRegressor(),\n",
    "                     param_grid=LR, scoring='r2')\n",
    "tuning.fit(X_train,Y_tarin)\n",
    "tuning.best_params_,tuning.best_score_\"\"\""
   ]
  },
  {
   "cell_type": "markdown",
   "id": "7a3a75ae",
   "metadata": {},
   "source": [
    "## RandomizedSearchCV- for larger dataset and done randomly"
   ]
  },
  {
   "cell_type": "code",
   "execution_count": 46,
   "id": "56624fa2",
   "metadata": {},
   "outputs": [
    {
     "data": {
      "text/plain": [
       "{'n_estimators': 250, 'max_depth': 5, 'learning_rate': 0.1}"
      ]
     },
     "execution_count": 46,
     "metadata": {},
     "output_type": "execute_result"
    }
   ],
   "source": [
    "from sklearn.model_selection import RandomizedSearchCV\n",
    "model_grad = GradientBoostingRegressor()\n",
    "\n",
    "LR =[0.15,0.1,1.0,0.05]\n",
    "n_estimator =[100,150,200,250]\n",
    "maxDepth = [2,3,4,5]\n",
    "tuning_param ={'learning_rate':LR,'n_estimators':n_estimator,'max_depth':maxDepth}\n",
    "randm_src = RandomizedSearchCV(estimator=model_grad, param_distributions = tuning_param,\n",
    "                               cv = 2, n_iter = 10, n_jobs=-1)\n",
    "randm_src.fit(X_train,Y_tarin)\n",
    "randm_src.best_params_"
   ]
  },
  {
   "cell_type": "markdown",
   "id": "823f17fa",
   "metadata": {},
   "source": [
    "## Stacking Esembling"
   ]
  },
  {
   "cell_type": "code",
   "execution_count": 40,
   "id": "a0e74ee5",
   "metadata": {},
   "outputs": [
    {
     "name": "stdout",
     "output_type": "stream",
     "text": [
      "('AD', 859.9290910583602)\n",
      "('RG', 877.8102641104049)\n",
      "('LAS', 896.3113145915361)\n",
      "('GB', 839.8161620374938)\n",
      "('Stacking', 839.8005753945677)\n"
     ]
    }
   ],
   "source": [
    "from sklearn.ensemble import StackingRegressor\n",
    "from sklearn.linear_model import LinearRegression, Ridge, Lasso\n",
    "from sklearn.ensemble import AdaBoostRegressor, GradientBoostingRegressor\n",
    "from sklearn.model_selection import train_test_split\n",
    "from sklearn.metrics import mean_squared_error as MSE\n",
    "import warnings\n",
    "\n",
    "warnings.filterwarnings('ignore') # This is to ignore some of the warnings\n",
    "\n",
    "MLReg1 = AdaBoostRegressor(n_estimators=100, learning_rate=1) \n",
    "MLReg2 = Ridge() \n",
    "MLReg3 = Lasso()\n",
    "MLReg4 = GradientBoostingRegressor(max_depth=2, n_estimators=250,learning_rate=0.5)\n",
    "LR = LinearRegression() # Define final estimator\n",
    "stacking_model = StackingRegressor(\n",
    "    estimators=[('AD', MLReg1), ('ridge', MLReg2), ('lasso', MLReg3), ('GB', MLReg4)], \n",
    "    final_estimator=LR\n",
    ")\n",
    "\n",
    "for model, label in zip([MLReg1,MLReg2,MLReg3,MLReg4,stacking_model],['AD','RG','LAS','GB','Stacking']):\n",
    "    X_train, X_test, Y_train, Y_test= train_test_split(processedData, outcomeVariable ,test_size=0.3,random_state=42)\n",
    "    model.fit(X_train,Y_train)\n",
    "    Predicted_Y= model.predict(X_test)\n",
    "    MSQE = MSE(Y_test, Predicted_Y)\n",
    "    msg =(label, MSQE)\n",
    "    print(msg)"
   ]
  },
  {
   "cell_type": "code",
   "execution_count": null,
   "id": "2db8d13a",
   "metadata": {},
   "outputs": [],
   "source": [
    " "
   ]
  }
 ],
 "metadata": {
  "kernelspec": {
   "display_name": "Python 3",
   "language": "python",
   "name": "python3"
  },
  "language_info": {
   "codemirror_mode": {
    "name": "ipython",
    "version": 3
   },
   "file_extension": ".py",
   "mimetype": "text/x-python",
   "name": "python",
   "nbconvert_exporter": "python",
   "pygments_lexer": "ipython3",
   "version": "3.8.8"
  }
 },
 "nbformat": 4,
 "nbformat_minor": 5
}
